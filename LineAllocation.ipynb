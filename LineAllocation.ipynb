{
 "cells": [
  {
   "cell_type": "markdown",
   "id": "6ba37a01-1e07-4f5d-9e6e-35cc764822c8",
   "metadata": {},
   "source": [
    "# Aplicação de Algoritmo Genético para otimização de reposição de linhas e Modelagem do circuito no OpenDSS.\n",
    "\n",
    "Este notebook tem como objetivo demonstrar a aplicação de um *Algoritmo Genético (AG)* para a otimização de reposição de linhas em um sistema elétrico modelado no software OpenDSS.\n",
    "\n",
    "O OpenDSS é uma ferramenta de simulação de sistemas de distribuição de energia elétrica. Com o uso de sua interface, é possível modelar sistemas elétricos e obter informações sobre o comportamento do sistema em diversas situações. Neste notebook, utilizaremos as funcionalidades disponíveis na biblioteca de funções OpenDSS para modelar um circuito elétrico.\n",
    "\n",
    "'* **Caso queira Executar o NoteBook diretamente no Google Colab utilize os comandos a seguir** "
   ]
  },
  {
   "cell_type": "code",
   "execution_count": 1,
   "id": "45480e7c",
   "metadata": {},
   "outputs": [],
   "source": [
    "#!git clone -b  feature/LineAllocationGA  https://github.com/eduardoapgomes/Genetic-Algorithm-Python-Library.git"
   ]
  },
  {
   "cell_type": "code",
   "execution_count": 2,
   "id": "b2de7360-02dc-4813-a3e0-49b6466c6a0b",
   "metadata": {},
   "outputs": [],
   "source": [
    "#import sys"
   ]
  },
  {
   "cell_type": "code",
   "execution_count": 3,
   "id": "c09201d2-502e-40f2-a92b-bc3249bc7d91",
   "metadata": {},
   "outputs": [],
   "source": [
    "#sys.path.append('/content/Genetic-Algorithm-Python-Library')"
   ]
  },
  {
   "cell_type": "code",
   "execution_count": 4,
   "id": "99bdf7c1-9ecc-479b-b9ef-124028e37157",
   "metadata": {},
   "outputs": [],
   "source": [
    "from IPython.display import display, Markdown, Latex, clear_output\n",
    "## pacotes de dados e de matematica\n",
    "import pandas as pd\n",
    "import numpy as np\n",
    "import scipy\n",
    "## pacotes de análise gráfica\n",
    "import matplotlib.pyplot as plt\n",
    "import matplotlib as mpl # não lembro pq usei o mpl completo\n",
    "import seaborn as sns\n",
    "## pacotes de interface com opendss\n",
    "import py_dss_interface\n",
    "## pacotes de análise de redes complexas (grafos)\n",
    "#import networkx as nx\n",
    "## Visualização do notebook\n",
    "#pd.set_option('display.max_rows', None)\n",
    "#pd.set_option('display.max_columns', None)\n",
    "import seaborn as sns\n",
    "import random"
   ]
  },
  {
   "cell_type": "markdown",
   "id": "5ebe1292-3b2b-487d-b514-6f7367605acb",
   "metadata": {},
   "source": [
    "# Modelagem do sistema elétrico no OpenDSS\n",
    "Neste trabalho, utilizaremos o OpenDSS para modelar o sistema teste apresentado na **Figura 1**. Através do algoritmo genético, buscaremos otimizar a reposição de linhas de modo a minimizar os custos de reposição e reduzir as perdas elétricas do sistema.\n",
    "\n",
    "![image.png](DSSLibrary/SistemaTeste.png)\n",
    "\n",
    "**Figura 1**. Diagrama unifilar do sistema teste."
   ]
  },
  {
   "cell_type": "markdown",
   "id": "69092b7d-e790-4a17-8872-c4c4f06eff8f",
   "metadata": {},
   "source": [
    "## Biblioteca de funções OpenDSS para análise de sistemas de distribuição\n",
    "\n",
    "A biblioteca de funções OpenDSS é uma coleção de funções desenvolvida para analisar redes elétricas de distribuição usando a ferramenta OpenDSS. As funções incluem inicialização do motor de simulação, execução de modelos, obtenção de dados de tensão, criação de gráficos e obtenção de dados de perda de transmissão. Os dados são retornados como pandas dataframes e a biblioteca utiliza a interface py_dss_interface. O argumento de entrada para as funções é uma instância do motor OpenDSS.\n",
    "\n",
    "**Biblioteca pythondss**:"
   ]
  },
  {
   "cell_type": "code",
   "execution_count": 5,
   "id": "11fb14df-b851-493b-bd54-33782fbd17f0",
   "metadata": {},
   "outputs": [],
   "source": [
    "from DSSLibrary.pythondss import *"
   ]
  },
  {
   "cell_type": "markdown",
   "id": "78e562c9-1a20-4288-874c-90c666d799a7",
   "metadata": {},
   "source": [
    "**Functions**\n",
    "1. `start_dss()`: Initializes an instance of the OpenDSS engine using the py_dss_interface.DSSDLL() function and returns it.\n",
    "2. `run_dss_model(dss_model, dss)`: Runs the specified models using the OpenDSS engine instance provided, by iterating over each model in `dss_model` and sending it to the engine using `dss.text()`. Returns the OpenDSS engine instance.\n",
    "3. `get_dss_voltages_dataframe(dss)`: Returns a pandas dataframe containing the voltage data (in per unit) for each bus in the circuit, obtained from the OpenDSS engine instance. The dataframe has columns 'Bus', 'Phase', and 'Voltage'.\n",
    "4. `plot_voltages_dataframe(df)`: Plots a categorized scatterplot of voltage data in the pandas dataframe `df`, with 'Voltage' on the x-axis, 'Bus' on the y-axis, and separate plots for each 'Phase'. The function uses seaborn's `catplot()` function for plotting and returns the plot object.\n",
    "1. `get_line_df(dss)`: Returns the merged dataframe the output of `get_line_branch_df` and `get_line_loss_df` on the 'Name' column.\n",
    "2. `get_line_loss_df(dss)`: Returns the power losses of all transmission lines in the circuit and converts them to a pandas dataframe.\n",
    "3. `get_line_branch_df(dss)`: Returns a pandas dataframe containing the properties of all transmission lines in the circuit.\n",
    "\n",
    "**Input Arguments**\n",
    "- `dss`: An instance of the OpenDSS engine.\n",
    "\n",
    "**Biblioteca Modeling**"
   ]
  },
  {
   "cell_type": "code",
   "execution_count": 6,
   "id": "b2be555b-8374-4103-ae5f-4d3a6b95d64c",
   "metadata": {},
   "outputs": [],
   "source": [
    "from DSSLibrary.modeling import *"
   ]
  },
  {
   "cell_type": "markdown",
   "id": "f124e590-2f31-4cac-af78-b8a31f2c2b72",
   "metadata": {},
   "source": [
    "**Functions**\n",
    "1. `set_feeder()`: This function models the feeder in the system.\n",
    "2. `set_line_models()`: This function models the transmission lines in the system.\n",
    "3. `set_lines(linelist)`: This function specifies the allocation of lines, where `linelist` specifies the conductor model. There are options from 1 to 5 for conductors. Additionally, `linelist` is a list of 37 positions corresponding to the 37 lines of the modeled circuit.\n",
    "4. `set_loads()`: This function models the loads in the system.\n",
    "5. `set_solver()`: This function sets the solver for the power flow analysis.\n",
    "\n",
    "**Input Arguments**\n",
    "- `dss`: An instance of the OpenDSS engine.\n",
    "- `linelist`: A list containing the line type from 0 to 5 for each line of the system's model."
   ]
  },
  {
   "cell_type": "code",
   "execution_count": 7,
   "id": "1f633611-786a-4dfc-ba99-8d92b4b0293b",
   "metadata": {},
   "outputs": [
    {
     "name": "stdout",
     "output_type": "stream",
     "text": [
      "OpenDSS Started successfully! \n",
      "OpenDSS Version 9.4.0.1 (64-bit build); License Status: Open \n",
      "\n",
      "\n"
     ]
    }
   ],
   "source": [
    "dss       = start_dss()"
   ]
  },
  {
   "cell_type": "markdown",
   "id": "b6267553-f9be-4f86-9511-c6a4047a2563",
   "metadata": {},
   "source": [
    "## Modelagem do custo e perdas associada as trocas de linhas\n",
    "\n",
    "Os custos de reposição das linhas foram modelados de acordo com a classe `system_costs`. \n",
    "Duas parcelas foram consideradas:\n",
    "\n",
    "**minimize**: \n",
    "1. $C_{Replace} = \\sum_{i=1}^{N}  r_{k \\leftarrow m}^i $\n",
    "\n",
    "2. $C_{Loss} = 1 - \\dfrac{1}{N}\\sum_{i=1}^N \\frac{ P_{Loss}^{k\\leftarrow m}}{P_{Base}^i }$\n",
    "**subject to:**\n",
    "\n",
    "1. $if~ Line_{k} < Line_{m}$:\n",
    "\n",
    "em que:\n",
    "$N$ é a quantidade de linhas que foi substituida.\n",
    "\n",
    "\n",
    "Classe **system_costs**\n",
    "\n",
    "Essa classe modela os custos do sistema de distribuição.\n",
    "\n",
    "**Properties**\n",
    "1. `CostMatrix()`: Returns the __cost_matrix attribute.\n",
    "2. `DefaulLines()`: Returns the __default_lines attribute.\n",
    "3. `DefaultLineLossDF()`: Returns the __default_lineloss_df attribute.\n",
    "4. `DSS()`: Returns the __start_dss attribute.\n",
    "\n",
    "**Methods**\n",
    "\n",
    "5. `objective_function(lines)`: Computes the objective function for a given allocation of conductors. The input parameter lines is a list of 37 positions that specifies the allocation of conductors.\n",
    "6. `cost_of_cable_change(lines)`: Computes the cost of changing the conductors of the transmission lines for a given allocation of conductors. The input parameter lines is a list of 37 positions that specifies the allocation of conductors.\n",
    "7. `is_feasible_iter(m,n)`: Checks if a given allocation of conductors is feasible. The input parameters m and n are integers that correspond to the positions of the conductors in the __cost_matrix attribute.\n",
    "8. `is_feasible(lines)`: Checks if a given allocation of conductors is feasible. The input parameter lines is a list of 37 positions that specifies the allocation of conductors.\n",
    "9. `constraint_adjacent_cable(lines)`: Computes the cost of changing an adjacent conductor for a given allocation of conductors. The input parameter lines is a list of 37 positions that specifies the allocation of conductors.\n",
    "10. `circuit_loss_cost(lines)`: Computes the cost of power loss for a given allocation of conductors. The input parameter lines is a list of 37 positions that specifies the allocation of conductors.\n",
    "11. `get_lineloss(lines)`: Returns a pandas DataFrame that stores the power loss for a given allocation of conductors. The input parameter lines is a list of 37 positions that specifies the allocation of conductors."
   ]
  },
  {
   "cell_type": "code",
   "execution_count": 8,
   "id": "7f9bec41-0434-4bdb-b494-2a59b740fdda",
   "metadata": {},
   "outputs": [],
   "source": [
    "class system_costs():\n",
    "    def __init__(self):\n",
    "        #circuit_model is a function\n",
    "        self = self.__set_cost_matrix()\n",
    "        self = self.__set_start_dss()\n",
    "        self = self.__set_default_lines()\n",
    "        self = self.__set_default_lineloss_df()\n",
    "    def CostMatrix(self):\n",
    "        return self.__cost_matrix\n",
    "    def DefaulLines(self):\n",
    "        return self.__default_lines\n",
    "    def DefaultLineLossDF(self):\n",
    "        return self.__default_lineloss_df\n",
    "    def DSS(self):\n",
    "        return self.__start_dss\n",
    "    def objective_function(self,lines):\n",
    "        c1 = self.cost_of_cable_change(lines)\n",
    "        c2 = self.circuit_loss_cost(lines)\n",
    "        c3 = self.constraint_adjacent_cable(lines)\n",
    "\n",
    "        return c1*c2 + c3\n",
    "    def cost_of_cable_change(self,lines):\n",
    "        default_lines = self.DefaulLines()\n",
    "        cost_matrix   = self.CostMatrix()\n",
    "        N             = len(default_lines)\n",
    "        costs =[]\n",
    "        for k in range(N):\n",
    "            m = default_lines[k]-1\n",
    "            n = lines[k]-1 #line position [0 to N], i.e [1 to 5]\n",
    "            if self.is_feasible_iter(m,n) == True:\n",
    "                costs.append(cost_matrix[m,n])\n",
    "            else:\n",
    "                costs.append(500**2)\n",
    "        return np.sum(costs)\n",
    "    def is_feasible_iter(self,m,n):\n",
    "        is_feasible = True\n",
    "        if m>dss.linecodes_count()-1:\n",
    "            is_feasible = False\n",
    "        if n>dss.linecodes_count()-1:\n",
    "            is_feasible = False\n",
    "        if m<0:\n",
    "            is_feasible = False\n",
    "        if n<0:\n",
    "            is_feasible = False\n",
    "        return is_feasible\n",
    "    def is_feasible(self,lines):\n",
    "        is_feasible=True\n",
    "        for x in lines:\n",
    "            if x > dss.linecodes_count():\n",
    "                is_feasible=False\n",
    "            if x<=0:\n",
    "                is_feasible=False     \n",
    "        return is_feasible\n",
    "    def constraint_adjacent_cable(self,lines):\n",
    "        cost_matrix = self.CostMatrix()\n",
    "        Custos = []\n",
    "        for k in range(len(lines)):\n",
    "            default_line = self.DefaulLines()[k]\n",
    "            replacing_line = lines[k]\n",
    "            if replacing_line < default_line:\n",
    "                if self.is_feasible_iter(default_line, replacing_line):\n",
    "                    Custos.append(cost_matrix[default_line, replacing_line])\n",
    "                else:\n",
    "                    Custos.append(500)\n",
    "            else:\n",
    "                Custos.append(0)\n",
    "        return np.sum(Custos)\n",
    "                \n",
    "    def circuit_loss_cost(self,lines):\n",
    "        N         = len(lines)\n",
    "        if self.is_feasible(lines) == True:\n",
    "            PlossBase = np.real(sc.DefaultLineLossDF().loc[1:,'PowerLoss'])\n",
    "            Ploss     = np.real(sc.get_lineloss(lines).loc[1:,'PowerLoss'])\n",
    "            Costs     = (N - np.sum(Ploss/PlossBase))/N\n",
    "        else:\n",
    "            Costs = 1\n",
    "        return Costs        \n",
    "    def __set_default_lineloss_df(self):\n",
    "        # (get_lineloss) criar uma classe dss e usar herança futuramente para limpar esse código.\n",
    "        self.__default_lineloss_df = self.get_lineloss(self.DefaulLines())\n",
    "        return self    \n",
    "    def get_lineloss(self, lines):\n",
    "        dss_model   = circuit_model(lines)\n",
    "        dss         = run_dss_model(dss_model,self.DSS())\n",
    "        df          = get_line_df(self.DSS())\n",
    "        return df    \n",
    "    def __set_start_dss(self):\n",
    "        self.__start_dss =start_dss()\n",
    "        return self\n",
    "    def __set_cost_matrix(self):\n",
    "        self.__cost_matrix = np.array([\n",
    "            [0, 100, 200, 400, 500],\n",
    "            [100, 0, 100, 200, 400],\n",
    "            [200, 100, 0, 150, 300],\n",
    "            [400, 200, 150, 0, 200],\n",
    "            [500, 400, 300, 200, 0]])\n",
    "        return self\n",
    "    def __set_default_lines(self):\n",
    "        self.__default_lines = [4, 4, 4, 4, 1, 3, 2, 1, 1, 2, 2, 1, 3, 1,\n",
    "                                1, 3, 1, 3, 1, 3, 3, 1, 1, 1, 4, 4, 1, 1,\n",
    "                                4, 3, 3, 3, 3, 3, 3, 3, 3]\n",
    "        return self"
   ]
  },
  {
   "cell_type": "markdown",
   "id": "f87fd8df-e9f4-428e-b542-e2b71f0107e5",
   "metadata": {},
   "source": [
    "## Testando Modelo de custo"
   ]
  },
  {
   "cell_type": "code",
   "execution_count": 9,
   "id": "28a62635-6109-4d53-9e28-f5449121adda",
   "metadata": {},
   "outputs": [
    {
     "name": "stdout",
     "output_type": "stream",
     "text": [
      "OpenDSS Started successfully! \n",
      "OpenDSS Version 9.4.0.1 (64-bit build); License Status: Open \n",
      "\n",
      "\n"
     ]
    },
    {
     "data": {
      "text/markdown": [
       "\n",
       "O custo de troca das linhas corresponde a:\n",
       "\n",
       "$C_{Replace}= 400$\n",
       "\n",
       "O custo das perdas técnicas é:\n",
       "\n",
       "$C_{Loss}= -0.216$\n",
       "\n",
       "A restrição por usar cabo de capacidade menor que o padrão inicial: \n",
       "400\n",
       "\n",
       "O Valor da função objetivo é:\n",
       "\n",
       "$Fitness= 313.54$\n"
      ],
      "text/plain": [
       "<IPython.core.display.Markdown object>"
      ]
     },
     "metadata": {},
     "output_type": "display_data"
    }
   ],
   "source": [
    "sc = system_costs()\n",
    "new_lines = [1, 4, 4, 4, 1, 3, 2, 1, 1, 2, 2, 1, 3, 1,\n",
    "             1, 3, 1, 3, 1, 3, 3, 1, 1, 1, 4, 4, 1, 1,\n",
    "             4, 3, 3, 3, 3, 3, 3, 3, 3]\n",
    "replace_cost = sc.cost_of_cable_change(new_lines)\n",
    "loss_cost = np.round(sc.circuit_loss_cost(new_lines), 3)\n",
    "constraint = sc.constraint_adjacent_cable(new_lines)\n",
    "fitness = np.round(sc.objective_function(new_lines), 2)\n",
    "\n",
    "markdown_str = f'''\n",
    "O custo de troca das linhas corresponde a:\n",
    "\n",
    "$C_{{Replace}}= {replace_cost}$\n",
    "\n",
    "O custo das perdas técnicas é:\n",
    "\n",
    "$C_{{Loss}}= {loss_cost}$\n",
    "\n",
    "A restrição por usar cabo de capacidade menor que o padrão inicial: \n",
    "{constraint}\n",
    "\n",
    "O Valor da função objetivo é:\n",
    "\n",
    "$Fitness= {fitness}$\n",
    "'''\n",
    "\n",
    "display(Markdown(markdown_str))"
   ]
  },
  {
   "cell_type": "markdown",
   "id": "834b6fe8-4074-42c0-ba39-e83a4ec861a8",
   "metadata": {},
   "source": [
    "## Modelagem da alocação de linhas\n",
    "\n",
    "The `dss_random_line` class is designed to generate random allocation of line types in an OpenDSS power system model. \n",
    "\n",
    "**ramdomline**    "
   ]
  },
  {
   "cell_type": "code",
   "execution_count": 10,
   "id": "3b8ca969-80e1-43b4-bd0a-2829f5bed8b9",
   "metadata": {},
   "outputs": [],
   "source": [
    "from DSSLibrary.randomline import *"
   ]
  },
  {
   "cell_type": "markdown",
   "id": "eadcfc25-11fb-40e7-bd7f-d831092ca9fa",
   "metadata": {},
   "source": [
    "The `dss_random_line` class is designed to generate random allocation of line types in an OpenDSS power system model. \n",
    "\n",
    "**Class methods:**\n",
    "- `dec2bin(self,xd)`: Converts decimal numbers to binary strings.\n",
    "- `bin2dec(self,xb)`: Converts binary strings to decimal numbers.\n",
    "- `NumberOfLineTypes(self)`: Returns the number of line types in the OpenDSS power system model.\n",
    "- `NumberOfLines(self)`: Returns the number of lines in the OpenDSS power system model.\n",
    "- `random_int_allocation(self)`: Generates a list of random integers representing the line types allocated to each line.\n",
    "- `random_bin_allocation(self)`: Generates a binary string representing the line type allocation using `random_int_allocation` function.\n",
    "\n",
    "**Input Arguments:**\n",
    "- `dss`: An instance of the OpenDSS engine.  \n",
    "\n",
    "**Example**\n",
    "dss_random = dss_random_line(dss)"
   ]
  },
  {
   "cell_type": "code",
   "execution_count": 11,
   "id": "fd495d7e-eea3-4c71-ad73-a0b12a918301",
   "metadata": {},
   "outputs": [
    {
     "name": "stdout",
     "output_type": "stream",
     "text": [
      "OpenDSS Started successfully! \n",
      "OpenDSS Version 9.4.0.1 (64-bit build); License Status: Open \n",
      "\n",
      "\n",
      "OpenDSS Started successfully! \n",
      "OpenDSS Version 9.4.0.1 (64-bit build); License Status: Open \n",
      "\n",
      "\n"
     ]
    }
   ],
   "source": [
    "sc         = system_costs() # system costs\n",
    "dss        = start_dss() # open_dss\n",
    "dss_random = dss_random_line(dss)\n",
    "\n",
    "def fitness_function(individual,sc,dss_random):\n",
    "    lines     = dss_random.bin2dec(individual)\n",
    "    objective = sc.objective_function(lines)\n",
    "    return objective"
   ]
  },
  {
   "cell_type": "markdown",
   "id": "5aa9b883-eef8-4e68-bbc6-ca35a8edb442",
   "metadata": {},
   "source": [
    "# Algotitmo Genético"
   ]
  },
  {
   "cell_type": "code",
   "execution_count": 12,
   "id": "c53cf81d-9d60-4db1-a4c6-f47b1760ed3b",
   "metadata": {},
   "outputs": [],
   "source": [
    "from math import inf\n",
    "from mimetypes import init\n",
    "from operator import le\n",
    "from Population import Population\n",
    "from Selection import Selection\n",
    "from Individuals import Individuals\n",
    "from Cutpoint import Cutpoint\n",
    "from Crossover import Crossover\n",
    "from Mutation import Mutation\n",
    "from Tournament import Tournament\n",
    "from Fitness import Fitness\n",
    "import numpy as np\n",
    "import random\n",
    "import matplotlib.pyplot as plt"
   ]
  },
  {
   "cell_type": "markdown",
   "id": "bf40f228-0f50-442c-8c23-d152a1889e47",
   "metadata": {},
   "source": [
    "O Algoritmo Genético (AG) foi desenvolvido conforme apresenta [1]. Trata-se de um processo iterativo, cujo o objetivo é minimizar uma função fitness, com as seguintes etapas sendo realizadas de forma sequencial:\n",
    "\n",
    "1. **Reprodução**: consiste em selecionar aleatoriamente pares de indivíduos da população existente. Esses indivíduos são submetidos a um torneio, onde é avaliado qual deles possui a melhor aptidão, ou seja, aquele com o melhor desempenho em relação ao problema em questão.\n",
    "2. **Crossover**:  os indivíduos vencedores do torneio são combinados em pares, e seus genes são misturados para gerar uma nova geração de indivíduos. Essa operação é baseada na ideia de que a combinação de características genéticas dos pais pode gerar indivíduos com características superiores.\n",
    "3. **Mutação**: introduz uma pequena alteração nos genes de alguns indivíduos da nova geração, de forma aleatória. Isso é feito para evitar que a busca se concentre em uma região muito limitada do espaço de soluções.\n",
    "\n",
    "\n",
    "![AlgoritmoGenetico.png](AlgoritmoGenetico.png)\n",
    "\n",
    "**Figura 2.** Fluxograma do Algoritmo genético[1].\n",
    "\n",
    "[1]K. Deb, “An introduction to genetic algorithms,” Sadhana, vol. 24, no. 4–5, pp. 293–315, Aug. 1999, doi: 10.1007/bf02823145.\n",
    "\n",
    "\n",
    "**Entrada:**\n",
    "\n",
    "- `fitness_function(lines, sc, dss_random)`: é uma função objetivo que recebe como argumentos uma lista de strings `lines`, um objeto `sc` e outro objeto `dss_random`. Essa função retorna um valor que representa o desempenho dos indivíduos da população.\n",
    "- `Pc`: é uma variável do tipo float que representa a probabilidade de crossover. \n",
    "- `Pm`: é uma variável do tipo float que representa a probabilidade de mutação.\n",
    "- `Np`: é uma variável do tipo int que representa o tamanho da população inicial.\n",
    "- `Niter`: é uma variável do tipo int que representa a quantidade de iterações que o algoritmo irá realizar.\n",
    "\n",
    "**Saída:**\n",
    "\n",
    "- `fitness_history`: é um dicionário que contém três listas: `iter`, `fitness` e `xmin`. A lista `iter` armazena o número da iteração, a lista `fitness` armazena o valor da função objetivo para o melhor indivíduo da população em cada iteração, e a lista `xmin` armazena o valor da melhor solução encontrada em cada iteração."
   ]
  },
  {
   "cell_type": "code",
   "execution_count": null,
   "id": "f7ba523a-f09c-4947-b574-74d7cfa59fd5",
   "metadata": {},
   "outputs": [],
   "source": [
    "random.seed(1)        # Para reproduzir o mesmo resultado\n",
    "minimize  = lambda lines: fitness_function(lines,sc,dss_random) # Função objetivo\n",
    "Pc = 0.63   # probabilidade de crossover\n",
    "Pm = 0.01   # probabilidade de mutação\n",
    "Np = 100    # tamanho da população\n",
    "Niter = 10000 # quantidade de iterações\n",
    "\n",
    "# Definindo a função fitness\n",
    "fitness = Fitness(minimize)\n",
    "\n",
    "# Gerando a população inicial e desempenho inicial\n",
    "population = Population.generate(Np, 185)\n",
    "fitness = fitness.evaluate(population)\n",
    "\n",
    "# Algoritmo Genético\n",
    "iter = 0\n",
    "fitness_history = {'iter': [], 'fitness': [], 'xmin': []}\n",
    "while iter < Niter:\n",
    "    #print(f'''iter: {iter}''')\n",
    "    # Parametrizando operações do AG\n",
    "    selection = Selection(population, Pc)\n",
    "    tournament = Tournament(selection, fitness, population)\n",
    "    crossover = Crossover(population, selection)\n",
    "\n",
    "    # Atualizando a população(torneio, crossover e mutation)\n",
    "    tournament = tournament.new_population\n",
    "    crossover = crossover.new_population\n",
    "    mutants = Mutation(Pm, crossover)\n",
    "    mutants = mutants.new_population\n",
    "\n",
    "    # Nova geração\n",
    "    new_population = tournament + mutants\n",
    "    fitness = fitness.evaluate(new_population)\n",
    "\n",
    "    # Armazenando os dados\n",
    "    fitness_iter = {'iter': iter, 'fitness': fitness.min, 'xmin': fitness.xmin}\n",
    "    for key, value in fitness_iter.items():\n",
    "        fitness_history[key].append(value)\n",
    "\n",
    "    # proxima iteração\n",
    "    population = new_population\n",
    "    iter += 1"
   ]
  },
  {
   "cell_type": "markdown",
   "id": "96a82527-047d-415c-ae19-a3a25e182b92",
   "metadata": {},
   "source": [
    "## Resultados"
   ]
  },
  {
   "cell_type": "code",
   "execution_count": null,
   "id": "e1b95ec5-fe04-4b8a-ae08-ae3e5a5e7509",
   "metadata": {},
   "outputs": [],
   "source": [
    "plt.figure()\n",
    "plt.plot(fitness_history['iter'],fitness_history['fitness'],'-o')\n",
    "plt.xlabel('Iter (k)')\n",
    "plt.ylabel('Fitness($x_{min}$)')\n",
    "plt.grid()\n",
    "plt.show()\n",
    "print('done')"
   ]
  },
  {
   "cell_type": "code",
   "execution_count": null,
   "id": "1a952988-f06f-48ce-b5f1-b68f033f6dd5",
   "metadata": {},
   "outputs": [],
   "source": [
    "dss_random.bin2dec(fitness_history['xmin'][Niter-1])"
   ]
  },
  {
   "cell_type": "markdown",
   "id": "a3f455e7-285e-4d03-9a3f-a60f377cd5db",
   "metadata": {},
   "source": [
    "# Conclusões\n",
    "Após a aplicação do algoritmo genético na resolução do desafiador problema de realocação otimizada de linhas de distribuição, este estudo forneceu importantes insights para a otimização deste tipo de problema. Embora a tarefa seja complexa e apresente uma tendência de gerar soluções infactíveis, o algoritmo genético implementado demonstrou-se uma excelente ferramenta para explorar essa otimização.\n",
    "\n",
    "No entanto, é importante ressaltar que é necessário um procedimento de melhoria na função objetivo para aumentar a capacidade do AG de apresentar soluções factíveis e resolver completamente esse problema. Portanto, acredita-se que este estudo possa ser utilizado como base para o desenvolvimento de futuros algoritmos que possam aprimorar ainda mais o desempenho do AG na otimização da realocação otimizada de linhas de distribuição."
   ]
  }
 ],
 "metadata": {
  "kernelspec": {
   "display_name": "Python 3 (ipykernel)",
   "language": "python",
   "name": "python3"
  },
  "language_info": {
   "codemirror_mode": {
    "name": "ipython",
    "version": 3
   },
   "file_extension": ".py",
   "mimetype": "text/x-python",
   "name": "python",
   "nbconvert_exporter": "python",
   "pygments_lexer": "ipython3",
   "version": "3.9.12"
  },
  "toc-autonumbering": true
 },
 "nbformat": 4,
 "nbformat_minor": 5
}
