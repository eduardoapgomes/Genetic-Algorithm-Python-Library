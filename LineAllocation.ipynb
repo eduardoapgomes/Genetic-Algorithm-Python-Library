{
 "cells": [
  {
   "cell_type": "markdown",
   "id": "e0c170ba-0f89-46ea-b3ec-64d525da9296",
   "metadata": {},
   "source": [
    "# Algoritmo Genético Aplicado Na Otimização de Reposição de Linhas"
   ]
  },
  {
   "cell_type": "code",
   "execution_count": 1,
   "id": "c53cf81d-9d60-4db1-a4c6-f47b1760ed3b",
   "metadata": {},
   "outputs": [],
   "source": [
    "#from math import inf\n",
    "#from mimetypes import init\n",
    "#from operator import le\n",
    "from Population import Population\n",
    "from Selection import Selection\n",
    "from Individuals import Individuals\n",
    "from Cutpoint import Cutpoint\n",
    "from Crossover import Crossover\n",
    "from Mutation import Mutation\n",
    "from Tournament import Tournament\n",
    "from Fitness import Fitness\n",
    "import numpy as np\n",
    "import random\n",
    "import matplotlib.pyplot as plt"
   ]
  },
  {
   "cell_type": "markdown",
   "id": "1d00756d-2f7d-44d2-a6e6-990d048b51a9",
   "metadata": {},
   "source": [
    "## Modelagem da Função objetivo"
   ]
  },
  {
   "cell_type": "code",
   "execution_count": 2,
   "id": "7526b49b-c374-4bf6-a12f-7637823a853e",
   "metadata": {},
   "outputs": [],
   "source": [
    "def minimize(data):\n",
    "    # Função de minimização\n",
    "    return -((int(data, 2)/(2**30 - 1))**2)"
   ]
  },
  {
   "cell_type": "code",
   "execution_count": 3,
   "id": "fcd55b70-f05f-4a38-b879-f348d151994c",
   "metadata": {},
   "outputs": [],
   "source": [
    "random.seed(12345) # Para reproduzir o mesmo resultado"
   ]
  },
  {
   "cell_type": "markdown",
   "id": "bf40f228-0f50-442c-8c23-d152a1889e47",
   "metadata": {},
   "source": [
    "## Algoritmo Genético"
   ]
  },
  {
   "cell_type": "code",
   "execution_count": 4,
   "id": "f7ba523a-f09c-4947-b574-74d7cfa59fd5",
   "metadata": {},
   "outputs": [],
   "source": [
    "Pc = 0.70  # probabilidade de crossover\n",
    "Pm = 0.01  # probabilidade de mutação\n",
    "Niter = 200\n",
    "\n",
    "# Definindo a função fitness\n",
    "fitness = Fitness(minimize)\n",
    "\n",
    "# Gerando a população inicial e desempenho inicial\n",
    "population = Population.generate(100, 30)\n",
    "fitness = fitness.evaluate(population)\n",
    "\n",
    "# Algoritmo Genético\n",
    "iter = 0\n",
    "fitness_history = {'iter': [], 'fitness': [], 'xmin': []}\n",
    "while iter < Niter:\n",
    "    #print(f'''iter: {iter}''')\n",
    "    # Parametrizando operações do AG\n",
    "    selection = Selection(population, Pc)\n",
    "    tournament = Tournament(selection, fitness, population)\n",
    "    crossover = Crossover(population, selection)\n",
    "\n",
    "    # Atualizando a população(torneio, crossover e mutation)\n",
    "    tournament = tournament.new_population\n",
    "    crossover = crossover.new_population\n",
    "    mutants = Mutation(Pm, crossover)\n",
    "    mutants = mutants.new_population\n",
    "\n",
    "    # Nova geração\n",
    "    new_population = tournament + mutants\n",
    "    fitness = fitness.evaluate(new_population)\n",
    "\n",
    "    # Armazenando os dados\n",
    "    fitness_iter = {'iter': iter, 'fitness': fitness.min, 'xmin': fitness.xmin}\n",
    "    for key, value in fitness_iter.items():\n",
    "        fitness_history[key].append(value)\n",
    "\n",
    "    # proxima iteração\n",
    "    population = new_population\n",
    "    iter += 1"
   ]
  },
  {
   "cell_type": "markdown",
   "id": "96a82527-047d-415c-ae19-a3a25e182b92",
   "metadata": {},
   "source": [
    "## Resultados"
   ]
  },
  {
   "cell_type": "code",
   "execution_count": 5,
   "id": "e1b95ec5-fe04-4b8a-ae08-ae3e5a5e7509",
   "metadata": {},
   "outputs": [
    {
     "data": {
      "image/png": "[encoded data removed]",
      "text/plain": [
       "<Figure size 640x480 with 1 Axes>"
      ]
     },
     "metadata": {},
     "output_type": "display_data"
    },
    {
     "name": "stdout",
     "output_type": "stream",
     "text": [
      "done\n"
     ]
    }
   ],
   "source": [
    "plt.figure()\n",
    "plt.plot(fitness_history['iter'],fitness_history['fitness'],'-o')\n",
    "plt.xlabel('Iter (k)')\n",
    "plt.ylabel('Fitness($x_{min}$)')\n",
    "plt.grid()\n",
    "plt.show()\n",
    "print('done')"
   ]
  }
 ],
 "metadata": {
  "kernelspec": {
   "display_name": "Python 3 (ipykernel)",
   "language": "python",
   "name": "python3"
  },
  "language_info": {
   "codemirror_mode": {
    "name": "ipython",
    "version": 3
   },
   "file_extension": ".py",
   "mimetype": "text/x-python",
   "name": "python",
   "nbconvert_exporter": "python",
   "pygments_lexer": "ipython3",
   "version": "3.9.12"
  },
  "toc-autonumbering": true
 },
 "nbformat": 4,
 "nbformat_minor": 5
}
